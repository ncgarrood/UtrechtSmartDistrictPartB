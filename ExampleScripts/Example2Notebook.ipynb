{
 "cells": [
  {
   "cell_type": "code",
   "execution_count": 4,
   "metadata": {},
   "outputs": [],
   "source": [
    "# -*- coding: utf-8 -*-\n",
    "\"\"\"\n",
    "Created on Mon Feb 05 15:26:35 2018\n",
    "\n",
    "@author: Alska001\n",
    "\"\"\"\n",
    "\n",
    "import gurobipy as gp\n",
    "import matplotlib.pyplot as plt\n",
    "import numpy as np\n",
    "\n",
    "D = 2 #number of days\n",
    "T = D*24 # number of 1 hr intervals\n",
    "t=np.linspace(1, T, num=T) \n",
    "\n"
   ]
  },
  {
   "cell_type": "markdown",
   "metadata": {},
   "source": [
    "#### np.linspace: Return evenly spaced numbers over a specified interval\n",
    "\n",
    "#### np.random.seed\n",
    "random.seed(self, seed=None)\n",
    "Reseed a legacy MT19937 BitGenerator\n",
    "\n",
    "#### Notes\n",
    "This is a convenience, legacy function.\n",
    "The best practice is to not reseed a BitGenerator, rather to recreate a new one. This method is here for legacy reasons. "
   ]
  },
  {
   "cell_type": "markdown",
   "metadata": {},
   "source": [
    "#### Some Variables for the model:\n"
   ]
  },
  {
   "cell_type": "code",
   "execution_count": 5,
   "metadata": {},
   "outputs": [
    {
     "data": {
      "text/plain": [
       "array([ 1.62434536, -0.61175641, -0.52817175, -1.07296862,  0.86540763,\n",
       "       -2.3015387 ,  1.74481176, -0.7612069 ,  0.3190391 , -0.24937038,\n",
       "        1.46210794, -2.06014071, -0.3224172 , -0.38405435,  1.13376944,\n",
       "       -1.09989127, -0.17242821, -0.87785842,  0.04221375,  0.58281521,\n",
       "       -1.10061918,  1.14472371,  0.90159072,  0.50249434,  0.90085595,\n",
       "       -0.68372786, -0.12289023, -0.93576943, -0.26788808,  0.53035547,\n",
       "       -0.69166075, -0.39675353, -0.6871727 , -0.84520564, -0.67124613,\n",
       "       -0.0126646 , -1.11731035,  0.2344157 ,  1.65980218,  0.74204416,\n",
       "       -0.19183555, -0.88762896, -0.74715829,  1.6924546 ,  0.05080775,\n",
       "       -0.63699565,  0.19091548,  2.10025514])"
      ]
     },
     "execution_count": 5,
     "metadata": {},
     "output_type": "execute_result"
    }
   ],
   "source": [
    "np.random.seed(1)\n",
    "randomv = np.random.randn(T) \n",
    "d = 8 + 4*np.sin(2*np.pi*t/24) + 0.05*t + 1.5*randomv\n",
    "# d for demand\n",
    "\n",
    "#Return a sample (or samples) from the “standard normal” distribution\n",
    "randomv"
   ]
  },
  {
   "cell_type": "code",
   "execution_count": 6,
   "metadata": {},
   "outputs": [
    {
     "data": {
      "text/plain": [
       "array([11.52179423,  9.18236538, 10.1861695 , 10.05464868, 13.41181475,\n",
       "        8.84769195, 14.83092095, 10.72229126, 11.75698577, 10.12594444,\n",
       "       11.77843809,  5.50978894,  7.13109801,  6.12391847,  7.62222704,\n",
       "        3.68606148,  4.72765438,  3.58321237,  5.14961731,  6.41012121,\n",
       "        4.57064411,  8.81708556,  9.4671099 ,  9.95374151, 11.6365601 ,\n",
       "       10.27440821, 11.99409179, 11.46044746, 12.91187119, 14.2955332 ,\n",
       "       12.37621218, 12.46897132, 11.44766807, 10.43219154,  9.77840698,\n",
       "        9.7810031 ,  7.1387583 ,  8.25162355,  9.61127614,  7.64896463,\n",
       "        5.89854337,  4.76855655,  5.16555925,  9.27458029,  7.49778451,\n",
       "        7.34450653,  9.60109705, 13.5503827 ])"
      ]
     },
     "execution_count": 6,
     "metadata": {},
     "output_type": "execute_result"
    }
   ],
   "source": [
    "d #demand at each timestep"
   ]
  },
  {
   "cell_type": "code",
   "execution_count": 7,
   "metadata": {},
   "outputs": [],
   "source": [
    "N = 4 # number of generators\n",
    "\n",
    "Pmax=[4, 5, 9, 2] #max power output for each generator\n",
    "Pmin=[1, 1, 1, 0]  \n",
    "alpha= [1, 1.2, 1.5, 1] #function for determing cost of running each generator"
   ]
  },
  {
   "cell_type": "markdown",
   "metadata": {},
   "source": [
    "### Gurobi Model:\n",
    "p is the power output for generator 'N' at time 'T'\n",
    "\n",
    "\n"
   ]
  },
  {
   "cell_type": "code",
   "execution_count": 8,
   "metadata": {},
   "outputs": [
    {
     "name": "stdout",
     "output_type": "stream",
     "text": [
      "Restricted license - for non-production use only - expires 2022-01-13\n"
     ]
    },
    {
     "data": {
      "text/plain": [
       "{(0, 0): <gurobi.Var *Awaiting Model Update*>,\n",
       " (0, 1): <gurobi.Var *Awaiting Model Update*>,\n",
       " (0, 2): <gurobi.Var *Awaiting Model Update*>,\n",
       " (0, 3): <gurobi.Var *Awaiting Model Update*>,\n",
       " (0, 4): <gurobi.Var *Awaiting Model Update*>,\n",
       " (0, 5): <gurobi.Var *Awaiting Model Update*>,\n",
       " (0, 6): <gurobi.Var *Awaiting Model Update*>,\n",
       " (0, 7): <gurobi.Var *Awaiting Model Update*>,\n",
       " (0, 8): <gurobi.Var *Awaiting Model Update*>,\n",
       " (0, 9): <gurobi.Var *Awaiting Model Update*>,\n",
       " (0, 10): <gurobi.Var *Awaiting Model Update*>,\n",
       " (0, 11): <gurobi.Var *Awaiting Model Update*>,\n",
       " (0, 12): <gurobi.Var *Awaiting Model Update*>,\n",
       " (0, 13): <gurobi.Var *Awaiting Model Update*>,\n",
       " (0, 14): <gurobi.Var *Awaiting Model Update*>,\n",
       " (0, 15): <gurobi.Var *Awaiting Model Update*>,\n",
       " (0, 16): <gurobi.Var *Awaiting Model Update*>,\n",
       " (0, 17): <gurobi.Var *Awaiting Model Update*>,\n",
       " (0, 18): <gurobi.Var *Awaiting Model Update*>,\n",
       " (0, 19): <gurobi.Var *Awaiting Model Update*>,\n",
       " (0, 20): <gurobi.Var *Awaiting Model Update*>,\n",
       " (0, 21): <gurobi.Var *Awaiting Model Update*>,\n",
       " (0, 22): <gurobi.Var *Awaiting Model Update*>,\n",
       " (0, 23): <gurobi.Var *Awaiting Model Update*>,\n",
       " (0, 24): <gurobi.Var *Awaiting Model Update*>,\n",
       " (0, 25): <gurobi.Var *Awaiting Model Update*>,\n",
       " (0, 26): <gurobi.Var *Awaiting Model Update*>,\n",
       " (0, 27): <gurobi.Var *Awaiting Model Update*>,\n",
       " (0, 28): <gurobi.Var *Awaiting Model Update*>,\n",
       " (0, 29): <gurobi.Var *Awaiting Model Update*>,\n",
       " (0, 30): <gurobi.Var *Awaiting Model Update*>,\n",
       " (0, 31): <gurobi.Var *Awaiting Model Update*>,\n",
       " (0, 32): <gurobi.Var *Awaiting Model Update*>,\n",
       " (0, 33): <gurobi.Var *Awaiting Model Update*>,\n",
       " (0, 34): <gurobi.Var *Awaiting Model Update*>,\n",
       " (0, 35): <gurobi.Var *Awaiting Model Update*>,\n",
       " (0, 36): <gurobi.Var *Awaiting Model Update*>,\n",
       " (0, 37): <gurobi.Var *Awaiting Model Update*>,\n",
       " (0, 38): <gurobi.Var *Awaiting Model Update*>,\n",
       " (0, 39): <gurobi.Var *Awaiting Model Update*>,\n",
       " (0, 40): <gurobi.Var *Awaiting Model Update*>,\n",
       " (0, 41): <gurobi.Var *Awaiting Model Update*>,\n",
       " (0, 42): <gurobi.Var *Awaiting Model Update*>,\n",
       " (0, 43): <gurobi.Var *Awaiting Model Update*>,\n",
       " (0, 44): <gurobi.Var *Awaiting Model Update*>,\n",
       " (0, 45): <gurobi.Var *Awaiting Model Update*>,\n",
       " (0, 46): <gurobi.Var *Awaiting Model Update*>,\n",
       " (0, 47): <gurobi.Var *Awaiting Model Update*>,\n",
       " (1, 0): <gurobi.Var *Awaiting Model Update*>,\n",
       " (1, 1): <gurobi.Var *Awaiting Model Update*>,\n",
       " (1, 2): <gurobi.Var *Awaiting Model Update*>,\n",
       " (1, 3): <gurobi.Var *Awaiting Model Update*>,\n",
       " (1, 4): <gurobi.Var *Awaiting Model Update*>,\n",
       " (1, 5): <gurobi.Var *Awaiting Model Update*>,\n",
       " (1, 6): <gurobi.Var *Awaiting Model Update*>,\n",
       " (1, 7): <gurobi.Var *Awaiting Model Update*>,\n",
       " (1, 8): <gurobi.Var *Awaiting Model Update*>,\n",
       " (1, 9): <gurobi.Var *Awaiting Model Update*>,\n",
       " (1, 10): <gurobi.Var *Awaiting Model Update*>,\n",
       " (1, 11): <gurobi.Var *Awaiting Model Update*>,\n",
       " (1, 12): <gurobi.Var *Awaiting Model Update*>,\n",
       " (1, 13): <gurobi.Var *Awaiting Model Update*>,\n",
       " (1, 14): <gurobi.Var *Awaiting Model Update*>,\n",
       " (1, 15): <gurobi.Var *Awaiting Model Update*>,\n",
       " (1, 16): <gurobi.Var *Awaiting Model Update*>,\n",
       " (1, 17): <gurobi.Var *Awaiting Model Update*>,\n",
       " (1, 18): <gurobi.Var *Awaiting Model Update*>,\n",
       " (1, 19): <gurobi.Var *Awaiting Model Update*>,\n",
       " (1, 20): <gurobi.Var *Awaiting Model Update*>,\n",
       " (1, 21): <gurobi.Var *Awaiting Model Update*>,\n",
       " (1, 22): <gurobi.Var *Awaiting Model Update*>,\n",
       " (1, 23): <gurobi.Var *Awaiting Model Update*>,\n",
       " (1, 24): <gurobi.Var *Awaiting Model Update*>,\n",
       " (1, 25): <gurobi.Var *Awaiting Model Update*>,\n",
       " (1, 26): <gurobi.Var *Awaiting Model Update*>,\n",
       " (1, 27): <gurobi.Var *Awaiting Model Update*>,\n",
       " (1, 28): <gurobi.Var *Awaiting Model Update*>,\n",
       " (1, 29): <gurobi.Var *Awaiting Model Update*>,\n",
       " (1, 30): <gurobi.Var *Awaiting Model Update*>,\n",
       " (1, 31): <gurobi.Var *Awaiting Model Update*>,\n",
       " (1, 32): <gurobi.Var *Awaiting Model Update*>,\n",
       " (1, 33): <gurobi.Var *Awaiting Model Update*>,\n",
       " (1, 34): <gurobi.Var *Awaiting Model Update*>,\n",
       " (1, 35): <gurobi.Var *Awaiting Model Update*>,\n",
       " (1, 36): <gurobi.Var *Awaiting Model Update*>,\n",
       " (1, 37): <gurobi.Var *Awaiting Model Update*>,\n",
       " (1, 38): <gurobi.Var *Awaiting Model Update*>,\n",
       " (1, 39): <gurobi.Var *Awaiting Model Update*>,\n",
       " (1, 40): <gurobi.Var *Awaiting Model Update*>,\n",
       " (1, 41): <gurobi.Var *Awaiting Model Update*>,\n",
       " (1, 42): <gurobi.Var *Awaiting Model Update*>,\n",
       " (1, 43): <gurobi.Var *Awaiting Model Update*>,\n",
       " (1, 44): <gurobi.Var *Awaiting Model Update*>,\n",
       " (1, 45): <gurobi.Var *Awaiting Model Update*>,\n",
       " (1, 46): <gurobi.Var *Awaiting Model Update*>,\n",
       " (1, 47): <gurobi.Var *Awaiting Model Update*>,\n",
       " (2, 0): <gurobi.Var *Awaiting Model Update*>,\n",
       " (2, 1): <gurobi.Var *Awaiting Model Update*>,\n",
       " (2, 2): <gurobi.Var *Awaiting Model Update*>,\n",
       " (2, 3): <gurobi.Var *Awaiting Model Update*>,\n",
       " (2, 4): <gurobi.Var *Awaiting Model Update*>,\n",
       " (2, 5): <gurobi.Var *Awaiting Model Update*>,\n",
       " (2, 6): <gurobi.Var *Awaiting Model Update*>,\n",
       " (2, 7): <gurobi.Var *Awaiting Model Update*>,\n",
       " (2, 8): <gurobi.Var *Awaiting Model Update*>,\n",
       " (2, 9): <gurobi.Var *Awaiting Model Update*>,\n",
       " (2, 10): <gurobi.Var *Awaiting Model Update*>,\n",
       " (2, 11): <gurobi.Var *Awaiting Model Update*>,\n",
       " (2, 12): <gurobi.Var *Awaiting Model Update*>,\n",
       " (2, 13): <gurobi.Var *Awaiting Model Update*>,\n",
       " (2, 14): <gurobi.Var *Awaiting Model Update*>,\n",
       " (2, 15): <gurobi.Var *Awaiting Model Update*>,\n",
       " (2, 16): <gurobi.Var *Awaiting Model Update*>,\n",
       " (2, 17): <gurobi.Var *Awaiting Model Update*>,\n",
       " (2, 18): <gurobi.Var *Awaiting Model Update*>,\n",
       " (2, 19): <gurobi.Var *Awaiting Model Update*>,\n",
       " (2, 20): <gurobi.Var *Awaiting Model Update*>,\n",
       " (2, 21): <gurobi.Var *Awaiting Model Update*>,\n",
       " (2, 22): <gurobi.Var *Awaiting Model Update*>,\n",
       " (2, 23): <gurobi.Var *Awaiting Model Update*>,\n",
       " (2, 24): <gurobi.Var *Awaiting Model Update*>,\n",
       " (2, 25): <gurobi.Var *Awaiting Model Update*>,\n",
       " (2, 26): <gurobi.Var *Awaiting Model Update*>,\n",
       " (2, 27): <gurobi.Var *Awaiting Model Update*>,\n",
       " (2, 28): <gurobi.Var *Awaiting Model Update*>,\n",
       " (2, 29): <gurobi.Var *Awaiting Model Update*>,\n",
       " (2, 30): <gurobi.Var *Awaiting Model Update*>,\n",
       " (2, 31): <gurobi.Var *Awaiting Model Update*>,\n",
       " (2, 32): <gurobi.Var *Awaiting Model Update*>,\n",
       " (2, 33): <gurobi.Var *Awaiting Model Update*>,\n",
       " (2, 34): <gurobi.Var *Awaiting Model Update*>,\n",
       " (2, 35): <gurobi.Var *Awaiting Model Update*>,\n",
       " (2, 36): <gurobi.Var *Awaiting Model Update*>,\n",
       " (2, 37): <gurobi.Var *Awaiting Model Update*>,\n",
       " (2, 38): <gurobi.Var *Awaiting Model Update*>,\n",
       " (2, 39): <gurobi.Var *Awaiting Model Update*>,\n",
       " (2, 40): <gurobi.Var *Awaiting Model Update*>,\n",
       " (2, 41): <gurobi.Var *Awaiting Model Update*>,\n",
       " (2, 42): <gurobi.Var *Awaiting Model Update*>,\n",
       " (2, 43): <gurobi.Var *Awaiting Model Update*>,\n",
       " (2, 44): <gurobi.Var *Awaiting Model Update*>,\n",
       " (2, 45): <gurobi.Var *Awaiting Model Update*>,\n",
       " (2, 46): <gurobi.Var *Awaiting Model Update*>,\n",
       " (2, 47): <gurobi.Var *Awaiting Model Update*>,\n",
       " (3, 0): <gurobi.Var *Awaiting Model Update*>,\n",
       " (3, 1): <gurobi.Var *Awaiting Model Update*>,\n",
       " (3, 2): <gurobi.Var *Awaiting Model Update*>,\n",
       " (3, 3): <gurobi.Var *Awaiting Model Update*>,\n",
       " (3, 4): <gurobi.Var *Awaiting Model Update*>,\n",
       " (3, 5): <gurobi.Var *Awaiting Model Update*>,\n",
       " (3, 6): <gurobi.Var *Awaiting Model Update*>,\n",
       " (3, 7): <gurobi.Var *Awaiting Model Update*>,\n",
       " (3, 8): <gurobi.Var *Awaiting Model Update*>,\n",
       " (3, 9): <gurobi.Var *Awaiting Model Update*>,\n",
       " (3, 10): <gurobi.Var *Awaiting Model Update*>,\n",
       " (3, 11): <gurobi.Var *Awaiting Model Update*>,\n",
       " (3, 12): <gurobi.Var *Awaiting Model Update*>,\n",
       " (3, 13): <gurobi.Var *Awaiting Model Update*>,\n",
       " (3, 14): <gurobi.Var *Awaiting Model Update*>,\n",
       " (3, 15): <gurobi.Var *Awaiting Model Update*>,\n",
       " (3, 16): <gurobi.Var *Awaiting Model Update*>,\n",
       " (3, 17): <gurobi.Var *Awaiting Model Update*>,\n",
       " (3, 18): <gurobi.Var *Awaiting Model Update*>,\n",
       " (3, 19): <gurobi.Var *Awaiting Model Update*>,\n",
       " (3, 20): <gurobi.Var *Awaiting Model Update*>,\n",
       " (3, 21): <gurobi.Var *Awaiting Model Update*>,\n",
       " (3, 22): <gurobi.Var *Awaiting Model Update*>,\n",
       " (3, 23): <gurobi.Var *Awaiting Model Update*>,\n",
       " (3, 24): <gurobi.Var *Awaiting Model Update*>,\n",
       " (3, 25): <gurobi.Var *Awaiting Model Update*>,\n",
       " (3, 26): <gurobi.Var *Awaiting Model Update*>,\n",
       " (3, 27): <gurobi.Var *Awaiting Model Update*>,\n",
       " (3, 28): <gurobi.Var *Awaiting Model Update*>,\n",
       " (3, 29): <gurobi.Var *Awaiting Model Update*>,\n",
       " (3, 30): <gurobi.Var *Awaiting Model Update*>,\n",
       " (3, 31): <gurobi.Var *Awaiting Model Update*>,\n",
       " (3, 32): <gurobi.Var *Awaiting Model Update*>,\n",
       " (3, 33): <gurobi.Var *Awaiting Model Update*>,\n",
       " (3, 34): <gurobi.Var *Awaiting Model Update*>,\n",
       " (3, 35): <gurobi.Var *Awaiting Model Update*>,\n",
       " (3, 36): <gurobi.Var *Awaiting Model Update*>,\n",
       " (3, 37): <gurobi.Var *Awaiting Model Update*>,\n",
       " (3, 38): <gurobi.Var *Awaiting Model Update*>,\n",
       " (3, 39): <gurobi.Var *Awaiting Model Update*>,\n",
       " (3, 40): <gurobi.Var *Awaiting Model Update*>,\n",
       " (3, 41): <gurobi.Var *Awaiting Model Update*>,\n",
       " (3, 42): <gurobi.Var *Awaiting Model Update*>,\n",
       " (3, 43): <gurobi.Var *Awaiting Model Update*>,\n",
       " (3, 44): <gurobi.Var *Awaiting Model Update*>,\n",
       " (3, 45): <gurobi.Var *Awaiting Model Update*>,\n",
       " (3, 46): <gurobi.Var *Awaiting Model Update*>,\n",
       " (3, 47): <gurobi.Var *Awaiting Model Update*>}"
      ]
     },
     "execution_count": 8,
     "metadata": {},
     "output_type": "execute_result"
    }
   ],
   "source": [
    "m=gp.Model() #initialise the model\n",
    "\n",
    "p = m.addVars(N,T,name='p') \n",
    "\n",
    "p"
   ]
  },
  {
   "cell_type": "markdown",
   "metadata": {},
   "source": [
    "### Add Contraints:\n",
    "\n",
    "1. The total generated power p(which has associated N,T) must never exceed pmax for all t in range 1 to T and all generators n in range N\n",
    "\n",
    "2. Same for min\n",
    "\n",
    "3. The sum of the power output for each genarator much be greater or equal to the demand at each timestamp"
   ]
  },
  {
   "cell_type": "code",
   "execution_count": 29,
   "metadata": {},
   "outputs": [
    {
     "data": {
      "text/plain": [
       "{0: <gurobi.Constr *Awaiting Model Update*>,\n",
       " 1: <gurobi.Constr *Awaiting Model Update*>,\n",
       " 2: <gurobi.Constr *Awaiting Model Update*>,\n",
       " 3: <gurobi.Constr *Awaiting Model Update*>,\n",
       " 4: <gurobi.Constr *Awaiting Model Update*>,\n",
       " 5: <gurobi.Constr *Awaiting Model Update*>,\n",
       " 6: <gurobi.Constr *Awaiting Model Update*>,\n",
       " 7: <gurobi.Constr *Awaiting Model Update*>,\n",
       " 8: <gurobi.Constr *Awaiting Model Update*>,\n",
       " 9: <gurobi.Constr *Awaiting Model Update*>,\n",
       " 10: <gurobi.Constr *Awaiting Model Update*>,\n",
       " 11: <gurobi.Constr *Awaiting Model Update*>,\n",
       " 12: <gurobi.Constr *Awaiting Model Update*>,\n",
       " 13: <gurobi.Constr *Awaiting Model Update*>,\n",
       " 14: <gurobi.Constr *Awaiting Model Update*>,\n",
       " 15: <gurobi.Constr *Awaiting Model Update*>,\n",
       " 16: <gurobi.Constr *Awaiting Model Update*>,\n",
       " 17: <gurobi.Constr *Awaiting Model Update*>,\n",
       " 18: <gurobi.Constr *Awaiting Model Update*>,\n",
       " 19: <gurobi.Constr *Awaiting Model Update*>,\n",
       " 20: <gurobi.Constr *Awaiting Model Update*>,\n",
       " 21: <gurobi.Constr *Awaiting Model Update*>,\n",
       " 22: <gurobi.Constr *Awaiting Model Update*>,\n",
       " 23: <gurobi.Constr *Awaiting Model Update*>,\n",
       " 24: <gurobi.Constr *Awaiting Model Update*>,\n",
       " 25: <gurobi.Constr *Awaiting Model Update*>,\n",
       " 26: <gurobi.Constr *Awaiting Model Update*>,\n",
       " 27: <gurobi.Constr *Awaiting Model Update*>,\n",
       " 28: <gurobi.Constr *Awaiting Model Update*>,\n",
       " 29: <gurobi.Constr *Awaiting Model Update*>,\n",
       " 30: <gurobi.Constr *Awaiting Model Update*>,\n",
       " 31: <gurobi.Constr *Awaiting Model Update*>,\n",
       " 32: <gurobi.Constr *Awaiting Model Update*>,\n",
       " 33: <gurobi.Constr *Awaiting Model Update*>,\n",
       " 34: <gurobi.Constr *Awaiting Model Update*>,\n",
       " 35: <gurobi.Constr *Awaiting Model Update*>,\n",
       " 36: <gurobi.Constr *Awaiting Model Update*>,\n",
       " 37: <gurobi.Constr *Awaiting Model Update*>,\n",
       " 38: <gurobi.Constr *Awaiting Model Update*>,\n",
       " 39: <gurobi.Constr *Awaiting Model Update*>,\n",
       " 40: <gurobi.Constr *Awaiting Model Update*>,\n",
       " 41: <gurobi.Constr *Awaiting Model Update*>,\n",
       " 42: <gurobi.Constr *Awaiting Model Update*>,\n",
       " 43: <gurobi.Constr *Awaiting Model Update*>,\n",
       " 44: <gurobi.Constr *Awaiting Model Update*>,\n",
       " 45: <gurobi.Constr *Awaiting Model Update*>,\n",
       " 46: <gurobi.Constr *Awaiting Model Update*>,\n",
       " 47: <gurobi.Constr *Awaiting Model Update*>}"
      ]
     },
     "execution_count": 29,
     "metadata": {},
     "output_type": "execute_result"
    }
   ],
   "source": [
    "m.addConstrs(p[n,t] <= Pmax[n] for t in range(T) for n in range(N))\n",
    "m.addConstrs(p[n,t] >= Pmin[n] for t in range(T) for n in range(N))\n",
    "m.addConstrs(gp.quicksum(p[n,t] for n in range(N)) >= d[t] for t in range(T))"
   ]
  },
  {
   "cell_type": "markdown",
   "metadata": {},
   "source": [
    "### Problem Formulation\n",
    "\n",
    "obj = The cost (alpha_generator * power output of each generator at each timestep) \n",
    "\n",
    "aim: minimise the cost"
   ]
  },
  {
   "cell_type": "code",
   "execution_count": 33,
   "metadata": {},
   "outputs": [
    {
     "name": "stdout",
     "output_type": "stream",
     "text": [
      "Gurobi Optimizer version 9.1.2 build v9.1.2rc0 (win64)\n",
      "Thread count: 4 physical cores, 8 logical processors, using up to 8 threads\n",
      "Optimize a model with 432 rows, 192 columns and 576 nonzeros\n",
      "Coefficient statistics:\n",
      "  Matrix range     [1e+00, 1e+00]\n",
      "  Objective range  [1e+00, 2e+00]\n",
      "  Bounds range     [0e+00, 0e+00]\n",
      "  RHS range        [1e+00, 2e+01]\n",
      "Iteration    Objective       Primal Inf.    Dual Inf.      Time\n",
      "       0    5.1152796e+02   0.000000e+00   0.000000e+00      0s\n",
      "\n",
      "Solved in 0 iterations and 0.01 seconds\n",
      "Optimal objective  5.115279649e+02\n"
     ]
    }
   ],
   "source": [
    "obj = gp.quicksum(alpha[n]*p[n,t] for n in range(N) for t in range(T))\n",
    "\n",
    "m.setObjective(obj, gp.GRB.MINIMIZE)\n",
    "m.optimize()\n",
    "\n",
    "P=m.getAttr(\"X\")\n",
    "\n",
    "P=np.reshape(P, (N,T))\n",
    "p_gen = np.asmatrix(P)"
   ]
  },
  {
   "cell_type": "code",
   "execution_count": 34,
   "metadata": {},
   "outputs": [
    {
     "name": "stdout",
     "output_type": "stream",
     "text": [
      "p_gen: [[4.         4.         4.         4.         4.         4.\n",
      "  4.         4.         4.         4.         4.         4.\n",
      "  3.61679632 1.         1.         1.         1.3076236  3.83411836\n",
      "  1.         1.5218847  3.89314734 2.22021409 2.25944375 4.\n",
      "  4.         4.         4.         4.         4.         4.\n",
      "  4.         4.         4.         4.         4.         4.\n",
      "  3.76412606 3.59490833 3.48557704 2.83864365 3.17782713 4.\n",
      "  2.10559984 2.88621728 3.64809569 3.30136822 4.         4.        ]\n",
      " [4.94226424 4.76658505 4.96700182 2.2229441  5.         5.\n",
      "  5.         5.         3.67710984 4.73600843 1.74181803 4.53231711\n",
      "  1.         1.         1.         1.         1.         1.\n",
      "  1.         1.         1.         1.         1.         3.51375839\n",
      "  4.22031945 3.64756498 5.         5.         5.         5.\n",
      "  5.         5.         3.64881053 5.         2.96661493 2.50174321\n",
      "  1.         1.         1.         1.         1.         1.78823731\n",
      "  1.         1.         1.         1.         1.         4.63754474]\n",
      " [1.         1.         1.         1.         2.01718223 1.93042331\n",
      "  2.43013081 2.43076476 1.         1.         1.         1.\n",
      "  1.         1.         1.         1.         1.         1.\n",
      "  1.         1.         1.         1.         1.         1.\n",
      "  1.         1.         3.28973713 2.05775398 4.7391277  3.25411132\n",
      "  4.75191162 2.22820566 1.         4.37405297 1.         1.\n",
      "  1.         1.         1.         1.         1.         1.\n",
      "  1.         1.         1.         1.         1.         1.        ]\n",
      " [2.         2.         2.         2.         2.         2.\n",
      "  2.         2.         2.         2.         2.         2.\n",
      "  0.         1.05896716 0.44549098 1.00006501 0.         2.\n",
      "  1.59654745 0.         2.         2.         2.         2.\n",
      "  2.         2.         2.         2.         2.         2.\n",
      "  2.         2.         2.         2.         2.         2.\n",
      "  2.         2.         2.         2.         2.         2.\n",
      "  2.         0.         0.         2.         0.80343011 2.        ]]\n"
     ]
    }
   ],
   "source": [
    "print(\"p_gen:\", p_gen)"
   ]
  },
  {
   "cell_type": "markdown",
   "metadata": {},
   "source": [
    "### Plotting the Results"
   ]
  },
  {
   "cell_type": "code",
   "execution_count": 38,
   "metadata": {},
   "outputs": [
    {
     "data": {
      "text/plain": [
       "<matplotlib.legend.Legend at 0x1b2e8219eb0>"
      ]
     },
     "execution_count": 38,
     "metadata": {},
     "output_type": "execute_result"
    },
    {
     "data": {
      "image/png": "[encoded data removed]",
      "text/plain": [
       "<Figure size 864x504 with 2 Axes>"
      ]
     },
     "metadata": {
      "needs_background": "light"
     },
     "output_type": "display_data"
    }
   ],
   "source": [
    "plt.figure(1, figsize = (12,7))\n",
    "plt.subplot(2,1,1)\n",
    "plt.plot(t, d)\n",
    "plt.title('demand')\n",
    "plt.subplot(2,1,2)\n",
    "plt.plot(t, p_gen.T)\n",
    "plt.title('generator powers')\n",
    "plt.legend(['g1', 'g2', 'g3', 'g4'],bbox_to_anchor=(1.05, 1),loc=2, borderaxespad=3)\n"
   ]
  },
  {
   "cell_type": "code",
   "execution_count": 70,
   "metadata": {},
   "outputs": [
    {
     "ename": "TypeError",
     "evalue": "only size-1 arrays can be converted to Python scalars",
     "output_type": "error",
     "traceback": [
      "\u001b[1;31m---------------------------------------------------------------------------\u001b[0m",
      "\u001b[1;31mTypeError\u001b[0m                                 Traceback (most recent call last)",
      "\u001b[1;32m<ipython-input-70-9822e23f373e>\u001b[0m in \u001b[0;36m<module>\u001b[1;34m\u001b[0m\n\u001b[1;32m----> 1\u001b[1;33m \u001b[0mplt\u001b[0m\u001b[1;33m.\u001b[0m\u001b[0mfigure\u001b[0m\u001b[1;33m(\u001b[0m\u001b[0md\u001b[0m\u001b[1;33m)\u001b[0m\u001b[1;33m\u001b[0m\u001b[1;33m\u001b[0m\u001b[0m\n\u001b[0m",
      "\u001b[1;32m~\\anaconda3\\lib\\site-packages\\matplotlib\\pyplot.py\u001b[0m in \u001b[0;36mfigure\u001b[1;34m(num, figsize, dpi, facecolor, edgecolor, frameon, FigureClass, clear, **kwargs)\u001b[0m\n\u001b[0;32m    666\u001b[0m             \u001b[0mnum\u001b[0m \u001b[1;33m=\u001b[0m \u001b[0mallnums\u001b[0m\u001b[1;33m[\u001b[0m\u001b[0minum\u001b[0m\u001b[1;33m]\u001b[0m\u001b[1;33m\u001b[0m\u001b[1;33m\u001b[0m\u001b[0m\n\u001b[0;32m    667\u001b[0m     \u001b[1;32melse\u001b[0m\u001b[1;33m:\u001b[0m\u001b[1;33m\u001b[0m\u001b[1;33m\u001b[0m\u001b[0m\n\u001b[1;32m--> 668\u001b[1;33m         \u001b[0mnum\u001b[0m \u001b[1;33m=\u001b[0m \u001b[0mint\u001b[0m\u001b[1;33m(\u001b[0m\u001b[0mnum\u001b[0m\u001b[1;33m)\u001b[0m  \u001b[1;31m# crude validation of num argument\u001b[0m\u001b[1;33m\u001b[0m\u001b[1;33m\u001b[0m\u001b[0m\n\u001b[0m\u001b[0;32m    669\u001b[0m \u001b[1;33m\u001b[0m\u001b[0m\n\u001b[0;32m    670\u001b[0m     \u001b[0mfigManager\u001b[0m \u001b[1;33m=\u001b[0m \u001b[0m_pylab_helpers\u001b[0m\u001b[1;33m.\u001b[0m\u001b[0mGcf\u001b[0m\u001b[1;33m.\u001b[0m\u001b[0mget_fig_manager\u001b[0m\u001b[1;33m(\u001b[0m\u001b[0mnum\u001b[0m\u001b[1;33m)\u001b[0m\u001b[1;33m\u001b[0m\u001b[1;33m\u001b[0m\u001b[0m\n",
      "\u001b[1;31mTypeError\u001b[0m: only size-1 arrays can be converted to Python scalars"
     ]
    }
   ],
   "source": []
  }
 ],
 "metadata": {
  "kernelspec": {
   "display_name": "Python 3",
   "language": "python",
   "name": "python3"
  },
  "language_info": {
   "codemirror_mode": {
    "name": "ipython",
    "version": 3
   },
   "file_extension": ".py",
   "mimetype": "text/x-python",
   "name": "python",
   "nbconvert_exporter": "python",
   "pygments_lexer": "ipython3",
   "version": "3.8.5"
  }
 },
 "nbformat": 4,
 "nbformat_minor": 4
}
